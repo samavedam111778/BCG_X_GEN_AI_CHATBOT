{
 "cells": [
  {
   "cell_type": "code",
   "execution_count": 3,
   "id": "0d607605-25e2-4221-bcf9-acdbaf2c6835",
   "metadata": {},
   "outputs": [],
   "source": [
    "import pandas as pd"
   ]
  },
  {
   "cell_type": "code",
   "execution_count": 4,
   "id": "5921f2b7-afc5-4b74-ad84-fd28f87653e4",
   "metadata": {},
   "outputs": [],
   "source": [
    "df = pd.read_csv(r\"C:\\Users\\91807\\OneDrive\\Desktop\\Data science\\Projects\\GIT\\BCG_GEN_AI\\BCG_X_GEN_AI\\TASK_1\\Task_1_data_Extraction_Initial_analysis.csv\",sep=\",\", skiprows=2)"
   ]
  },
  {
   "cell_type": "code",
   "execution_count": 5,
   "id": "e89956eb-d65b-4862-88ae-03c617033c17",
   "metadata": {},
   "outputs": [],
   "source": [
    "df.columns = df.columns.str.strip().str.lower().str.replace(' ', '_')"
   ]
  },
  {
   "cell_type": "code",
   "execution_count": 6,
   "id": "41b02dc1-6f4f-4826-9c34-f0cab7f2bb0d",
   "metadata": {},
   "outputs": [],
   "source": [
    "df.columns = ['Company_Name', 'Year', 'Total_Revenue', 'Net_Income', 'Total_Assets','Total_Liabilities', 'Operating_Cash_Flow']"
   ]
  },
  {
   "cell_type": "code",
   "execution_count": 7,
   "id": "43fa3287-f567-4e54-83fa-58d2ec3ad8e1",
   "metadata": {},
   "outputs": [
    {
     "name": "stdout",
     "output_type": "stream",
     "text": [
      "['Company_Name', 'Year', 'Total_Revenue', 'Net_Income', 'Total_Assets', 'Total_Liabilities', 'Operating_Cash_Flow']\n"
     ]
    }
   ],
   "source": [
    "print(df.columns.tolist())"
   ]
  },
  {
   "cell_type": "code",
   "execution_count": 8,
   "id": "c1c7d33d-dabd-4c92-aed7-db0e95c92409",
   "metadata": {},
   "outputs": [],
   "source": [
    "# Sort before group operations\n",
    "df=df.sort_values(['Company_Name', 'Year'])"
   ]
  },
  {
   "cell_type": "code",
   "execution_count": 9,
   "id": "18191639-1ee2-4dce-81c6-c87218e71e95",
   "metadata": {},
   "outputs": [],
   "source": [
    "#calculating year-over-year changes for each financial metric\n",
    "df['Revenue_Growth(%)']= df.groupby('Company_Name')['Total_Revenue'].pct_change() * 100\n",
    "df['Net_Income_Growth(%)'] = df.groupby('Company_Name')['Net_Income'].pct_change() * 100\n",
    "df['Assets_Growth(%)'] = df.groupby('Company_Name')['Total_Assets'].pct_change() * 100\n",
    "df['Operating_Cash_Flow_Growth(%)'] = df.groupby('Company_Name')['Operating_Cash_Flow'].pct_change() * 100\n"
   ]
  },
  {
   "cell_type": "code",
   "execution_count": 10,
   "id": "16559ba6-fba9-4fd6-9f25-31c626ae2796",
   "metadata": {},
   "outputs": [],
   "source": [
    "# Average YoY growth by company\n",
    "summary = df.groupby('Company_Name')[['Revenue_Growth(%)',\n",
    "                                 'Net_Income_Growth(%)',\n",
    "                                 'Assets_Growth(%)',\n",
    "                                 'Operating_Cash_Flow_Growth(%)']].mean().round(2)\n",
    "df.fillna({'Revenue_Growth(%)': 0,\n",
    "           'Net_Income_Growth(%)': 0,\n",
    "           'Assets_Growth(%)': 0,\n",
    "           'Operating_Cash_Flow_Growth(%)'\n",
    "           'Rate_of_Assets': 0}, inplace=True)"
   ]
  },
  {
   "cell_type": "code",
   "execution_count": 11,
   "id": "8f569bf0-9e86-4a74-be8b-999e98e0c117",
   "metadata": {},
   "outputs": [
    {
     "name": "stdout",
     "output_type": "stream",
     "text": [
      "              Revenue_Growth(%)  Net_Income_Growth(%)  Assets_Growth(%)  \\\n",
      "Company_Name                                                              \n",
      "Apple                      2.39                 -0.90              3.54   \n",
      "Microsoft                 15.30                 18.67              5.71   \n",
      "Tesla                      0.24                  1.22              4.08   \n",
      "\n",
      "              Operating_Cash_Flow_Growth(%)  \n",
      "Company_Name                                 \n",
      "Apple                                  4.65  \n",
      "Microsoft                             25.11  \n",
      "Tesla                                  0.08  \n"
     ]
    }
   ],
   "source": [
    "print(summary)"
   ]
  },
  {
   "cell_type": "code",
   "execution_count": 12,
   "id": "bc6bf3f6-2ee2-4049-ba42-2ae38abb8677",
   "metadata": {
    "scrolled": true
   },
   "outputs": [
    {
     "name": "stdout",
     "output_type": "stream",
     "text": [
      "Company_Name\n",
      "Apple        107.38\n",
      "Microsoft     43.61\n",
      "Tesla         85.28\n",
      "Name: Rate_of_Assets, dtype: float64\n"
     ]
    }
   ],
   "source": [
    "df['Rate_of_Assets'] = (df['Total_Revenue'] / df['Total_Assets']) * 100\n",
    "rate_summary = df.groupby('Company_Name')['Rate_of_Assets'].mean().round(2)\n",
    "print(rate_summary)"
   ]
  },
  {
   "cell_type": "code",
   "execution_count": 36,
   "id": "e7b9cbe8-96ff-4704-b5bb-d3c6856c93d9",
   "metadata": {},
   "outputs": [],
   "source": [
    "import os\n",
    "import difflib\n",
    "import re\n",
    "from flask import Flask, request, render_template_string\n"
   ]
  },
  {
   "cell_type": "code",
   "execution_count": 69,
   "id": "3f7eae1b-ce04-4a83-90f4-5c6dcf352bc0",
   "metadata": {},
   "outputs": [],
   "source": [
    "df_growth = pd.DataFrame({\n",
    "    \"Company_Name\": [\"Apple\", \"Microsoft\", \"Tesla\"],\n",
    "    \"Revenue_Growth(%)\": [2.39, 15.30, 0.24],\n",
    "    \"Net_Income_Growth(%)\": [-0.90, 18.67, 1.22],\n",
    "    \"Assets_Growth(%)\": [3.54, 5.71, 4.08],\n",
    "    \"Operating_Cash_Flow_Growth(%)\": [4.65, 25.11, 0.08],\n",
    "})\n",
    "\n",
    "COMPANIES = {c.lower(): c for c in df_growth[\"Company_Name\"].tolist()}\n",
    "\n",
    "def pct(v):\n",
    "    return f\"{v:.2f}%\" if isinstance(v, (int, float, float)) else \"N/A\"\n",
    "\n",
    "def normalize(q: str) -> str:\n",
    "    q = q.lower().strip()\n",
    "    q = q.replace(\"’\", \"'\").replace(\"“\", '\"').replace(\"”\", '\"')\n",
    "    return q.rstrip(\"?.! \")\n",
    "\n",
    "def tokenize(q: str) -> set:\n",
    "    return set(re.findall(r\"[a-z0-9]+\", normalize(q)))\n",
    "\n",
    "def find_company(user_query: str) -> str | None:\n",
    "    \"\"\"Detect the company mentioned in the user query.\"\"\"\n",
    "    q = normalize(user_query)\n",
    "    toks = tokenize(q)\n",
    "    # Direct token match\n",
    "    for tk in toks:\n",
    "        if tk in COMPANIES:\n",
    "            return COMPANIES[tk]\n",
    "    # Fuzzy match for typos (e.g., micorsoft → Microsoft)\n",
    "    best, score = None, 0.0\n",
    "    for lc, proper in COMPANIES.items():\n",
    "        s = difflib.SequenceMatcher(a=q, b=lc).ratio()\n",
    "        if s > score:\n",
    "            best, score = proper, s\n",
    "    return best if score >= 0.75 else None\n",
    "\n",
    "def row_for(company: str) -> pd.Series | None:\n",
    "    m = df_growth[\"Company_Name\"] == company\n",
    "    if not m.any():\n",
    "        return None\n",
    "    return df_growth.loc[m].iloc[0]\n",
    "\n",
    "def handle_revenue(company: str) -> str:\n",
    "    r = row_for(company)\n",
    "    if r is None: return f\"No data found for {company}.\"\n",
    "    return f\"{company}: Revenue YoY growth = {pct(r['Revenue_Growth(%)'])}\"\n",
    "\n",
    "def handle_profitability(company: str) -> str:\n",
    "    r = row_for(company)\n",
    "    if r is None: return f\"No data found for {company}.\"\n",
    "    parts = [\n",
    "        f\"Operating Cash Flow growth = {pct(r['Operating_Cash_Flow_Growth(%)'])}\",\n",
    "        f\"Net Income growth = {pct(r['Net_Income_Growth(%)'])}\",\n",
    "        f\"Assets growth = {pct(r['Assets_Growth(%)'])}\",\n",
    "    ]\n",
    "    return f\"{company}: \" + \" | \".join(parts)\n",
    "\n",
    "def handle_roa(company: str) -> str:\n",
    "    # ROA not present in HTML data\n",
    "    return f\"{company}: ROA not available in the attached dataset.\"\n",
    "\n",
    "def handle_cfo(company: str) -> str:\n",
    "    r = row_for(company)\n",
    "    if r is None: return f\"No data found for {company}.\"\n",
    "    val = r['Operating_Cash_Flow_Growth(%)']\n",
    "    if val < 5: msg = \"poor conversion of earnings to cash.\"\n",
    "    elif val < 15: msg = \"decent operational cash.\"\n",
    "    elif val < 25: msg = \"very good; high-quality earnings.\"\n",
    "    else: msg = \"exceptional efficiency.\"\n",
    "    return f\"{company}: Operating Cash Flow growth = {pct(val)} — {msg}\"\n",
    "\n",
    "EXACT_PATTERNS = {\n",
    "    \"revenue\": [\n",
    "        \"how has the company's revenue grown year-over-year\",\n",
    "        \"how has the company’s revenue grown year-over-year\",\n",
    "        \"revenue yoy\",\n",
    "        \"revenue growth\",\n",
    "    ],\n",
    "    \"profitability\": [\n",
    "        \"is the company becoming more profitable over time? show me the trend in gross, operating, and net profit margins.\",\n",
    "        \"profitability trend\",\n",
    "        \"gross operating and net profit margins\",\n",
    "    ],\n",
    "    \"roa\": [\n",
    "        \"how efficiently is the company using its assets to generate income (roa)?\",\n",
    "        \"roa\",\n",
    "    ],\n",
    "    \"cfo\": [\n",
    "        \"is the company generating consistent positive cash flow from operations, and how is that changing over time?\",\n",
    "        \"operating cash flow growth\",\n",
    "        \"cash flow from operations\",\n",
    "    ],\n",
    "}\n",
    "\n",
    "HANDLERS = {\n",
    "    \"revenue\": handle_revenue,\n",
    "    \"profitability\": handle_profitability,\n",
    "    \"roa\": handle_roa,\n",
    "    \"cfo\": handle_cfo,\n",
    "}\n",
    "\n"
   ]
  },
  {
   "cell_type": "code",
   "execution_count": null,
   "id": "aad3f6a8-1bf2-4e96-845a-fe17fddbadb7",
   "metadata": {},
   "outputs": [],
   "source": [
    "def simple_chatbot(user_query: str) -> str:\n",
    "    q = normalize(user_query)\n",
    "    company = find_company(q) \n",
    "\n",
    "    if not company:\n",
    "        return (\"Please include a company name (Apple, Microsoft, or Tesla). \"\n",
    "                \"Example: 'Apple revenue YoY' or 'profitability trend for Microsoft'.\")\n",
    "\n",
    "  \n",
    "    for intent, phrasings in EXACT_PATTERNS.items():\n",
    "        if q in [normalize(p) for p in phrasings]:\n",
    "            return HANDLERS[intent](company)\n",
    "\n",
    "    \n",
    "    pairs = [(intent, p) for intent, ps in EXACT_PATTERNS.items() for p in ps]\n",
    "    best_intent, best_score = None, 0.0\n",
    "    for intent, p in pairs:\n",
    "        score = difflib.SequenceMatcher(a=q, b=normalize(p)).ratio()\n",
    "        if score > best_score:\n",
    "            best_intent, best_score = intent, score\n",
    "    if best_score >= 0.78:\n",
    "        return HANDLERS[best_intent](company)\n",
    "\n",
    "\n",
    "    toks = tokenize(q)\n",
    "    keyword_rules = [\n",
    "        ({\"revenue\", \"growth\", \"yoy\", \"year\", \"over\"}, \"revenue\"),\n",
    "        ({\"profit\", \"profitable\", \"margin\", \"gross\", \"operating\", \"net\"}, \"profitability\"),\n",
    "        ({\"roa\", \"assets\", \"efficiency\", \"return\"}, \"roa\"),\n",
    "        ({\"cash\", \"flow\", \"operations\", \"cfo\"}, \"cfo\"),\n",
    "    ]\n",
    "    best_intent_kw, best_hits = None, 0\n",
    "    for kwset, intent in keyword_rules:\n",
    "        hits = len(kwset & toks)\n",
    "        if hits > best_hits:\n",
    "            best_hits, best_intent_kw = hits, intent\n",
    "    if best_intent_kw and best_hits > 0:\n",
    "        return \"(Approximate) \" + HANDLERS[best_intent_kw](company)\n",
    "\n",
    "    return (\"I’m not sure yet. Try: 'Apple revenue YoY', \"\n",
    "            \"'profitability trend Microsoft', or 'Tesla operating cash flow growth'.\")\n"
   ]
  },
  {
   "cell_type": "code",
   "execution_count": 70,
   "id": "3627911c-7951-412c-8508-3f0e29a08749",
   "metadata": {},
   "outputs": [
    {
     "name": "stdin",
     "output_type": "stream",
     "text": [
      "Hi! I’m the Financial Chatbot. What should I call you?  vineeta\n"
     ]
    },
    {
     "name": "stdout",
     "output_type": "stream",
     "text": [
      "Hi vineeta! Pleasure to assist you. Ask a financial question (or type 'exit').\n"
     ]
    },
    {
     "name": "stdin",
     "output_type": "stream",
     "text": [
      ">  how has the company’s revenue grown year-over-year\n"
     ]
    },
    {
     "name": "stdout",
     "output_type": "stream",
     "text": [
      "\n",
      "vineeta, here's my response:\n",
      "Please include a company name (Apple, Microsoft, or Tesla). Example: 'Apple revenue YoY' or 'profitability trend for Microsoft'.\n",
      "\n"
     ]
    },
    {
     "name": "stdin",
     "output_type": "stream",
     "text": [
      ">  Microsoft\n"
     ]
    },
    {
     "name": "stdout",
     "output_type": "stream",
     "text": [
      "\n",
      "vineeta, here's my response:\n",
      "I’m not sure yet. Try: 'Apple revenue YoY', 'profitability trend Microsoft', or 'Tesla operating cash flow growth'.\n",
      "\n"
     ]
    },
    {
     "name": "stdin",
     "output_type": "stream",
     "text": [
      ">  profitability trend Microsoft\n"
     ]
    },
    {
     "name": "stdout",
     "output_type": "stream",
     "text": [
      "\n",
      "vineeta, here's my response:\n",
      "Microsoft: Operating Cash Flow growth = 25.11% | Net Income growth = 18.67% | Assets growth = 5.71%\n",
      "\n"
     ]
    },
    {
     "name": "stdin",
     "output_type": "stream",
     "text": [
      ">  thankyou\n"
     ]
    },
    {
     "name": "stdout",
     "output_type": "stream",
     "text": [
      "\n",
      "vineeta, here's my response:\n",
      "Please include a company name (Apple, Microsoft, or Tesla). Example: 'Apple revenue YoY' or 'profitability trend for Microsoft'.\n",
      "\n"
     ]
    },
    {
     "name": "stdin",
     "output_type": "stream",
     "text": [
      ">  exit\n"
     ]
    },
    {
     "name": "stdout",
     "output_type": "stream",
     "text": [
      "Goodbye!\n"
     ]
    }
   ],
   "source": [
    "\n",
    "if __name__ == \"__main__\":\n",
    "    name = input(\"Hi! I’m the Financial Chatbot. What should I call you? \").strip() or \"Guest\"\n",
    "    print(f\"Hi {name}! Pleasure to assist you. Ask a financial question (or type 'exit').\")\n",
    "    while True:\n",
    "        q = input(\"> \").strip()\n",
    "        if normalize(q) == \"exit\":\n",
    "            print(\"Goodbye!\")\n",
    "            break\n",
    "        print(f\"\\n{name}, here's my response:\\n{simple_chatbot(q)}\\n\")"
   ]
  },
  {
   "cell_type": "code",
   "execution_count": null,
   "id": "c0d54025-1a6b-4571-b02d-657f3efb8636",
   "metadata": {},
   "outputs": [],
   "source": []
  }
 ],
 "metadata": {
  "kernelspec": {
   "display_name": "Python [conda env:base] *",
   "language": "python",
   "name": "conda-base-py"
  },
  "language_info": {
   "codemirror_mode": {
    "name": "ipython",
    "version": 3
   },
   "file_extension": ".py",
   "mimetype": "text/x-python",
   "name": "python",
   "nbconvert_exporter": "python",
   "pygments_lexer": "ipython3",
   "version": "3.12.7"
  }
 },
 "nbformat": 4,
 "nbformat_minor": 5
}
